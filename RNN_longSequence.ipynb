{
 "cells": [
  {
   "cell_type": "markdown",
   "metadata": {},
   "source": [
    "# Lab 12 Character Sequence RNN"
   ]
  },
  {
   "cell_type": "code",
   "execution_count": 1,
   "metadata": {
    "collapsed": true
   },
   "outputs": [],
   "source": [
    "import tensorflow as tf\n",
    "import numpy as np\n",
    "tf.set_random_seed(32147354)"
   ]
  },
  {
   "cell_type": "code",
   "execution_count": 2,
   "metadata": {
    "collapsed": true
   },
   "outputs": [],
   "source": [
    "#tf.set_random_seed(32147354)\n",
    "sample = \" 안녕하세요 이봉구입니다.반갑습니다\"\n",
    "idx2char = list(set(sample))  # index -> char\n",
    "char2idx = {c: i for i, c in enumerate(idx2char)}  # char -> idex"
   ]
  },
  {
   "cell_type": "code",
   "execution_count": 3,
   "metadata": {},
   "outputs": [],
   "source": [
    "sample_idx = [char2idx[c] for c in sample]  # char to index\n",
    "x_data = [sample_idx[:-1]]  # X data sample (0 ~ n-1) hello: hell, if you want yo\n",
    "y_data = [sample_idx[1:]]   # Y label sample (1 ~ n) hello: ello, f you want you"
   ]
  },
  {
   "cell_type": "code",
   "execution_count": 4,
   "metadata": {
    "collapsed": true
   },
   "outputs": [],
   "source": [
    "# hyper parameters\n",
    "dic_size = len(char2idx)  # RNN input size (one hot size)\n",
    "hidden_size = len(char2idx)  # RNN output size\n",
    "num_classes = len(char2idx)  # final output size (RNN or softmax, etc.)\n",
    "batch_size = 1  # one sample data, one batch\n",
    "sequence_length = len(sample) - 1  # number of lstm rollings (unit #)\n",
    "learning_rate = 0.1"
   ]
  },
  {
   "cell_type": "code",
   "execution_count": 5,
   "metadata": {
    "collapsed": true
   },
   "outputs": [],
   "source": [
    "X = tf.placeholder(tf.int32, [None, sequence_length])  # X data\n",
    "Y = tf.placeholder(tf.int32, [None, sequence_length])  # Y label"
   ]
  },
  {
   "cell_type": "code",
   "execution_count": 6,
   "metadata": {
    "collapsed": true
   },
   "outputs": [],
   "source": [
    "x_one_hot = tf.one_hot(X, num_classes)  \n",
    "# one hot: 1 -> 0 1 0 0 0 0 0 0 0 0\n",
    "# num_classes 몇개의 원핫을 ? 유일한 문자열의 수만큼\n",
    "# Shape이 어덯게 변하는지 살펴봐야 한다"
   ]
  },
  {
   "cell_type": "code",
   "execution_count": 7,
   "metadata": {},
   "outputs": [],
   "source": [
    "cell = tf.contrib.rnn.BasicLSTMCell(\n",
    "    num_units=hidden_size, state_is_tuple=True)"
   ]
  },
  {
   "cell_type": "code",
   "execution_count": 8,
   "metadata": {},
   "outputs": [],
   "source": [
    "initial_state = cell.zero_state(batch_size, tf.float32)"
   ]
  },
  {
   "cell_type": "code",
   "execution_count": 9,
   "metadata": {},
   "outputs": [],
   "source": [
    "outputs, _states = tf.nn.dynamic_rnn(\n",
    "    cell, x_one_hot, initial_state=initial_state, dtype=tf.float32)"
   ]
  },
  {
   "cell_type": "code",
   "execution_count": 10,
   "metadata": {
    "collapsed": true
   },
   "outputs": [],
   "source": [
    "# FC layer\n",
    "X_for_fc = tf.reshape(outputs, [-1, hidden_size])\n",
    "outputs = tf.contrib.layers.fully_connected(X_for_fc, \n",
    "                                            num_classes, \n",
    "                                            activation_fn=None)"
   ]
  },
  {
   "cell_type": "code",
   "execution_count": 11,
   "metadata": {
    "collapsed": true
   },
   "outputs": [],
   "source": [
    "# reshape out for sequence_loss\n",
    "outputs = tf.reshape(outputs,\n",
    "                     [batch_size, sequence_length, num_classes])\n",
    "weights = tf.ones([batch_size, sequence_length])\n",
    "sequence_loss = tf.contrib.seq2seq.sequence_loss(\n",
    "    logits=outputs, targets=Y, weights=weights)\n",
    "loss = tf.reduce_mean(sequence_loss)\n",
    "train = tf.train.AdamOptimizer(learning_rate=learning_rate).minimize(loss)\n",
    "\n",
    "prediction = tf.argmax(outputs, axis=2)\n"
   ]
  },
  {
   "cell_type": "code",
   "execution_count": 13,
   "metadata": {},
   "outputs": [
    {
     "name": "stdout",
     "output_type": "stream",
     "text": [
      "0 loss: 2.76171 Prediction: 다다다세요이다다다다다다다다다다니다\n",
      "1 loss: 2.57844 Prediction: 니니니니니니니니니다니다니다니니니다\n",
      "2 loss: 2.42019 Prediction: 니니하세요 이봉니니니다다다니니니다\n",
      "3 loss: 2.07159 Prediction: 니세세세요 이봉구니니다니다니니니니\n",
      "4 loss: 1.72501 Prediction: 하세세세요 이봉구입니다다반갑습니다\n",
      "5 loss: 1.40881 Prediction: 하세세세요 이봉구입니다.반갑습니다\n",
      "6 loss: 1.11488 Prediction: 하하세세요 이봉구입니다.반갑습니다\n",
      "7 loss: 0.827423 Prediction: 하하하세요 이봉구입니다.반갑습니다\n",
      "8 loss: 0.595422 Prediction: 안녕하세요 이봉구입니다.반갑습니다\n",
      "9 loss: 0.409593 Prediction: 안녕하세요 이봉구입니다.반갑습니다\n",
      "10 loss: 0.27809 Prediction: 안녕하세요 이봉구입니다.반갑습니다\n",
      "11 loss: 0.192144 Prediction: 안녕하세요 이봉구입니다.반갑습니다\n",
      "12 loss: 0.128634 Prediction: 안녕하세요 이봉구입니다.반갑습니다\n",
      "13 loss: 0.0857616 Prediction: 안녕하세요 이봉구입니다.반갑습니다\n",
      "14 loss: 0.0565654 Prediction: 안녕하세요 이봉구입니다.반갑습니다\n",
      "15 loss: 0.0367447 Prediction: 안녕하세요 이봉구입니다.반갑습니다\n",
      "16 loss: 0.0239734 Prediction: 안녕하세요 이봉구입니다.반갑습니다\n",
      "17 loss: 0.0161007 Prediction: 안녕하세요 이봉구입니다.반갑습니다\n",
      "18 loss: 0.0112412 Prediction: 안녕하세요 이봉구입니다.반갑습니다\n",
      "19 loss: 0.00810223 Prediction: 안녕하세요 이봉구입니다.반갑습니다\n",
      "20 loss: 0.00594984 Prediction: 안녕하세요 이봉구입니다.반갑습니다\n",
      "21 loss: 0.00441064 Prediction: 안녕하세요 이봉구입니다.반갑습니다\n",
      "22 loss: 0.00329391 Prediction: 안녕하세요 이봉구입니다.반갑습니다\n",
      "23 loss: 0.00248621 Prediction: 안녕하세요 이봉구입니다.반갑습니다\n",
      "24 loss: 0.00190607 Prediction: 안녕하세요 이봉구입니다.반갑습니다\n",
      "25 loss: 0.00149072 Prediction: 안녕하세요 이봉구입니다.반갑습니다\n",
      "26 loss: 0.00119226 Prediction: 안녕하세요 이봉구입니다.반갑습니다\n",
      "27 loss: 0.000975545 Prediction: 안녕하세요 이봉구입니다.반갑습니다\n",
      "28 loss: 0.000815888 Prediction: 안녕하세요 이봉구입니다.반갑습니다\n",
      "29 loss: 0.000696112 Prediction: 안녕하세요 이봉구입니다.반갑습니다\n"
     ]
    }
   ],
   "source": [
    "with tf.Session() as sess:\n",
    "    sess.run(tf.global_variables_initializer())\n",
    "    for i in range(30):\n",
    "        l, _ = sess.run([loss, train], feed_dict={X: x_data, Y: y_data})\n",
    "        result = sess.run(prediction, feed_dict={X: x_data})\n",
    "\n",
    "        # print char using dic\n",
    "        result_str = [idx2char[c] for c in np.squeeze(result)]\n",
    "\n",
    "        print(i, \"loss:\", l, \"Prediction:\", ''.join(result_str))\n"
   ]
  },
  {
   "cell_type": "code",
   "execution_count": null,
   "metadata": {
    "collapsed": true
   },
   "outputs": [],
   "source": []
  }
 ],
 "metadata": {
  "kernelspec": {
   "display_name": "Python 3",
   "language": "python",
   "name": "python3"
  },
  "language_info": {
   "codemirror_mode": {
    "name": "ipython",
    "version": 3
   },
   "file_extension": ".py",
   "mimetype": "text/x-python",
   "name": "python",
   "nbconvert_exporter": "python",
   "pygments_lexer": "ipython3",
   "version": "3.6.2"
  }
 },
 "nbformat": 4,
 "nbformat_minor": 2
}
